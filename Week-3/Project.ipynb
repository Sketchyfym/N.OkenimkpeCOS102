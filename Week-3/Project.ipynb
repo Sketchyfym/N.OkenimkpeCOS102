{
 "cells": [
  {
   "cell_type": "code",
   "execution_count": 1,
   "id": "e62d5e7e-7723-49f1-90eb-ce04bcd14733",
   "metadata": {},
   "outputs": [
    {
     "name": "stdout",
     "output_type": "stream",
     "text": [
      "Female Data \n",
      "\n",
      "Evelyn| 17|5|80\n",
      "Jessica| 16|5|85\n",
      "Somto|  17|6|70\n",
      "Edith| 18|6|60\n",
      "Liza|  16|5|76\n",
      "Madonna| 18|5|66\n",
      "Waje| 17|6|87\n",
      "Tola| 20|6|95\n",
      "Aisha| 19|6|50\n",
      "Latifa| 17|5|49\n"
     ]
    }
   ],
   "source": [
    "print (\"Female Data \\n\")\n",
    "\n",
    "girls = {'Evelyn|' : '17|5|80' ,'Jessica|' :'16|5|85', 'Somto| ': '17|6|70',\n",
    "         'Edith|' : '18|6|60' , 'Liza| ': '16|5|76' , 'Madonna|' : '18|5|66',\n",
    "         'Waje|' : '17|6|87' , 'Tola|' : '20|6|95', 'Aisha|' : '19|6|50' , 'Latifa|' : '17|5|49'}\n",
    "\n",
    "for pick in girls:\n",
    "    print(pick, girls[pick])"
   ]
  },
  {
   "cell_type": "code",
   "execution_count": 19,
   "id": "4a626f82-fdab-4a03-913d-5c989c78dcbf",
   "metadata": {},
   "outputs": [
    {
     "name": "stdin",
     "output_type": "stream",
     "text": [
      "Enter your years of experience 20\n",
      "Enter your age 30\n"
     ]
    },
    {
     "name": "stdout",
     "output_type": "stream",
     "text": [
      "yo <class 'int'>\n",
      "Annual Tax Revenue is N550,000\n"
     ]
    }
   ],
   "source": [
    "exp = int(input(\"Enter your years of experience: \"))\n",
    "age = int(input(\"Enter your age: \"))\n",
    "\n",
    "if exp >= 25 and age >= 55:\n",
    "    print(\"Annual Tax Revenue is N5,600,000.\")\n",
    "elif exp >= 20 and age >= 45:\n",
    "    print(\"Annual Tax Revenue is N4,480,000\")\n",
    "elif exp >= 10 and age >= 35:\n",
    "    print(\"Annual Tax Revenue is N1,500,000\")\n",
    "else:\n",
    "    print(\"Annual Tax Revenue is N550,000\")"
   ]
  },
  {
   "cell_type": "code",
   "execution_count": null,
   "id": "b30b79f0-3c11-491a-a72d-4cd92be64bbd",
   "metadata": {},
   "outputs": [],
   "source": []
  }
 ],
 "metadata": {
  "kernelspec": {
   "display_name": "Python [conda env:base] *",
   "language": "python",
   "name": "conda-base-py"
  },
  "language_info": {
   "codemirror_mode": {
    "name": "ipython",
    "version": 3
   },
   "file_extension": ".py",
   "mimetype": "text/x-python",
   "name": "python",
   "nbconvert_exporter": "python",
   "pygments_lexer": "ipython3",
   "version": "3.12.7"
  }
 },
 "nbformat": 4,
 "nbformat_minor": 5
}
