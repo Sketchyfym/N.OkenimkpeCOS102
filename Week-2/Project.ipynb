{
 "cells": [
  {
   "cell_type": "code",
   "execution_count": 1,
   "id": "426e289a-2b87-40ff-91fb-3bffd3d38175",
   "metadata": {},
   "outputs": [
    {
     "name": "stdin",
     "output_type": "stream",
     "text": [
      "Enter the first name: n\n",
      "Enter the first age: 3\n",
      "Enter the second name: g\n",
      "Enter the second age: 2\n"
     ]
    },
    {
     "name": "stdout",
     "output_type": "stream",
     "text": [
      "n new age is 2.\n",
      "g's new age is 3.\n"
     ]
    }
   ],
   "source": [
    "name1 = input(\"Enter the first name:\")\n",
    "age1 = int(input(\"Enter the first age:\"))\n",
    "name2 = input(\"Enter the second name:\")\n",
    "age2 = int(input(\"Enter the second age:\"))\n",
    "print (f\"{name1} new age is {age2}.\")\n",
    "print (f\"{name2}'s new age is {age1}.\")"
   ]
  },
  {
   "cell_type": "code",
   "execution_count": null,
   "id": "03364f66-1a34-4823-b43e-44ecec6f9a26",
   "metadata": {},
   "outputs": [],
   "source": [
    "print (\"Ngl gng i am NOT finding the roots of a quarti"
   ]
  }
 ],
 "metadata": {
  "kernelspec": {
   "display_name": "Python [conda env:base] *",
   "language": "python",
   "name": "conda-base-py"
  },
  "language_info": {
   "codemirror_mode": {
    "name": "ipython",
    "version": 3
   },
   "file_extension": ".py",
   "mimetype": "text/x-python",
   "name": "python",
   "nbconvert_exporter": "python",
   "pygments_lexer": "ipython3",
   "version": "3.12.7"
  }
 },
 "nbformat": 4,
 "nbformat_minor": 5
}
