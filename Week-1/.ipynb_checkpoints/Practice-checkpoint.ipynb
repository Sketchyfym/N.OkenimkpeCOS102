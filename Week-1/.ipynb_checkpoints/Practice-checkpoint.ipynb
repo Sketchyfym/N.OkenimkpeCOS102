{
 "cells": [
  {
   "cell_type": "code",
   "execution_count": 1,
   "id": "3e1074de-35e9-45a9-b1e4-64c46fa6a73c",
   "metadata": {},
   "outputs": [
    {
     "name": "stdout",
     "output_type": "stream",
     "text": [
      "Hello Jay\n"
     ]
    }
   ],
   "source": [
    "print(\"Hello Jay\")"
   ]
  },
  {
   "cell_type": "code",
   "execution_count": 5,
   "id": "b252b94a-1f1d-4812-b077-36feb2a1f00b",
   "metadata": {},
   "outputs": [
    {
     "name": "stdin",
     "output_type": "stream",
     "text": [
      "What's your name mike\n"
     ]
    },
    {
     "name": "stdout",
     "output_type": "stream",
     "text": [
      "Hello, mike\n"
     ]
    }
   ],
   "source": [
    "person = input(\"What's your name\")\n",
    "print('Hello,' , person)"
   ]
  },
  {
   "cell_type": "code",
   "execution_count": 7,
   "id": "047d9566-59fc-40f4-a584-ee52c4dfc1bd",
   "metadata": {},
   "outputs": [
    {
     "name": "stdout",
     "output_type": "stream",
     "text": [
      "12\n"
     ]
    }
   ],
   "source": [
    "age = 12\n",
    "print(age)"
   ]
  },
  {
   "cell_type": "code",
   "execution_count": 11,
   "id": "feff6e8a-b5e5-44ac-a621-e294ea5c2ecc",
   "metadata": {},
   "outputs": [
    {
     "name": "stdout",
     "output_type": "stream",
     "text": [
      "42\n"
     ]
    }
   ],
   "source": [
    "x = 6\n",
    "y = x * 7\n",
    "print(y)"
   ]
  },
  {
   "cell_type": "code",
   "execution_count": 13,
   "id": "389c5af4-12d4-4c75-ba5f-de2a91f423e0",
   "metadata": {},
   "outputs": [
    {
     "name": "stdout",
     "output_type": "stream",
     "text": [
      "Adele Joe\n"
     ]
    }
   ],
   "source": [
    "name = 'Adele Joe'\n",
    "print (name)"
   ]
  },
  {
   "cell_type": "code",
   "execution_count": 15,
   "id": "009c048c-7151-480a-96e2-3ea6f5ac8fe1",
   "metadata": {},
   "outputs": [
    {
     "data": {
      "text/plain": [
       "False"
      ]
     },
     "execution_count": 15,
     "metadata": {},
     "output_type": "execute_result"
    }
   ],
   "source": [
    "mango = 5\n",
    "apple = 3\n",
    "apple > mango"
   ]
  },
  {
   "cell_type": "code",
   "execution_count": 17,
   "id": "12da5c1c-39bf-40a4-98aa-78038c0eb819",
   "metadata": {},
   "outputs": [
    {
     "data": {
      "text/plain": [
       "False"
      ]
     },
     "execution_count": 17,
     "metadata": {},
     "output_type": "execute_result"
    }
   ],
   "source": [
    "mango < apple"
   ]
  },
  {
   "cell_type": "code",
   "execution_count": 19,
   "id": "079496a1-8fe0-4178-990f-16a1d6d57b0a",
   "metadata": {},
   "outputs": [
    {
     "data": {
      "text/plain": [
       "False"
      ]
     },
     "execution_count": 19,
     "metadata": {},
     "output_type": "execute_result"
    }
   ],
   "source": [
    "mango == apple"
   ]
  },
  {
   "cell_type": "code",
   "execution_count": 30,
   "id": "22469c4e-b9b3-4e2a-b736-c08ea490f75c",
   "metadata": {},
   "outputs": [
    {
     "name": "stdout",
     "output_type": "stream",
     "text": [
      "Hello Guys\n",
      "How are you all?\n",
      "Welcome to Python Programming\n"
     ]
    }
   ],
   "source": [
    "print(\"Hello Guys\")\n",
    "\n",
    "# Second print statement\n",
    "print(\"How are you all?\")\n",
    "\n",
    "# Thirs print statement\n",
    "print(\"Welcome to Python Programming\")"
   ]
  },
  {
   "cell_type": "code",
   "execution_count": 32,
   "id": "225a6ec6-9fb6-433e-a67b-7de51fc723a5",
   "metadata": {},
   "outputs": [
    {
     "name": "stdout",
     "output_type": "stream",
     "text": [
      "Three digit number\n"
     ]
    }
   ],
   "source": [
    "num = 100\n",
    "\n",
    "if 9 < num < 99:\n",
    "\n",
    "    print(\"Two digit number\")\n",
    "\n",
    "elif 99 < num < 999:\n",
    "    print(\"Three digit number\")\n",
    "elif 999 < num < 9999:\n",
    "    print(\"Four digit number\")\n",
    "else:\n",
    "    print(\"number is <=9 or >=9999\")"
   ]
  },
  {
   "cell_type": "code",
   "execution_count": 34,
   "id": "9971803a-1add-4a6d-8821-db18f9bae31d",
   "metadata": {},
   "outputs": [
    {
     "name": "stdout",
     "output_type": "stream",
     "text": [
      "Welcome to CSC 102 Introduction to Problem solving\n"
     ]
    }
   ],
   "source": [
    " message = \"Welcome to\"\n",
    "course_code = \"CSC 102\"\n",
    "course_title = \"Introduction to Problem solving\"\n",
    "\n",
    "concat = message +' '+ course_code+' '+course_title\n",
    "\n",
    "print(concat)"
   ]
  },
  {
   "cell_type": "code",
   "execution_count": null,
   "id": "44c4a3a9-b9a6-4304-8b74-62dc6e9e1765",
   "metadata": {},
   "outputs": [],
   "source": []
  }
 ],
 "metadata": {
  "kernelspec": {
   "display_name": "Python [conda env:base] *",
   "language": "python",
   "name": "conda-base-py"
  },
  "language_info": {
   "codemirror_mode": {
    "name": "ipython",
    "version": 3
   },
   "file_extension": ".py",
   "mimetype": "text/x-python",
   "name": "python",
   "nbconvert_exporter": "python",
   "pygments_lexer": "ipython3",
   "version": "3.12.7"
  }
 },
 "nbformat": 4,
 "nbformat_minor": 5
}
