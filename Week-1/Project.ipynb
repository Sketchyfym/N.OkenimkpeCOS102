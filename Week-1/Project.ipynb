{
 "cells": [
  {
   "cell_type": "code",
   "execution_count": 5,
   "id": "442f325b-1944-42d7-a15c-cd2c858cee9e",
   "metadata": {},
   "outputs": [
    {
     "name": "stdin",
     "output_type": "stream",
     "text": [
      "Enter the Principal 100\n",
      "Enter the Rate 2\n",
      "Enter the Time 8\n",
      "Number of Years 1\n",
      "Enter M 3\n",
      "Enter the formula, 1) Simple Intrest 2) Compound Intest 3) Annuity Plan 1\n"
     ]
    },
    {
     "name": "stdout",
     "output_type": "stream",
     "text": [
      "The Amount is 115.99999999999999\n"
     ]
    }
   ],
   "source": [
    "p = int(input(\"Enter the Principal\"))\n",
    "r = int(input(\"Enter the Rate\"))\n",
    "t = int(input(\"Enter the Time\"))\n",
    "n = int(input(\"Number of Years\"))\n",
    "m = int(input(\"Enter M\"))\n",
    "formula = int(input(\"Enter the formula, 1) Simple Intrest 2) Compound Intest 3) Annuity Plan\"))\n",
    "\n",
    "if formula == 1:\n",
    "    r1 = r / 100\n",
    "    r2 = r1 * t\n",
    "    r3 = r2 + 1\n",
    "    a = p * r3\n",
    "    print('The Amount is' , a)\n",
    "\n",
    "elif formula == 2:\n",
    "    r1 = r / n\n",
    "    r2 = r1 + 1\n",
    "    r3 = r2 ** ( n * t )\n",
    "    a = r3 * p\n",
    "    print('The Amount is' , a)\n",
    "\n",
    "elif formula == 3:\n",
    "    r1 = p * m * t\n",
    "    r2 = r / n\n",
    "    r3 = ( 1 + r2 ) ** ( n * t )\n",
    "    r4 = r3 - 1\n",
    "    r5 = r4 / r2\n",
    "    a = r1 * r5\n",
    "    print('The Amount is' , a)\n",
    "    \n",
    "                                    \n"
   ]
  },
  {
   "cell_type": "code",
   "execution_count": null,
   "id": "f542cd8f-0063-4e31-b7a1-ddb4da0abaee",
   "metadata": {},
   "outputs": [],
   "source": []
  }
 ],
 "metadata": {
  "kernelspec": {
   "display_name": "Python [conda env:base] *",
   "language": "python",
   "name": "conda-base-py"
  },
  "language_info": {
   "codemirror_mode": {
    "name": "ipython",
    "version": 3
   },
   "file_extension": ".py",
   "mimetype": "text/x-python",
   "name": "python",
   "nbconvert_exporter": "python",
   "pygments_lexer": "ipython3",
   "version": "3.12.7"
  }
 },
 "nbformat": 4,
 "nbformat_minor": 5
}
